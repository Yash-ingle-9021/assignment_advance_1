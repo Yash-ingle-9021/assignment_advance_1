{
 "cells": [
  {
   "cell_type": "markdown",
   "id": "dcab1548-a378-48db-9f9b-dd6c84153f03",
   "metadata": {},
   "source": [
    "# ASSIGNMENT STATISTICS ADVANCE |"
   ]
  },
  {
   "cell_type": "code",
   "execution_count": 1,
   "id": "3479f450-f755-4126-92bc-05321089a66d",
   "metadata": {},
   "outputs": [
    {
     "name": "stdout",
     "output_type": "stream",
     "text": [
      "Q_1_ANS :- In probability theory, a probability density function (PDF), or density of an absolutely continuous random variable, is a function whose value at any given sample (or point) in the sample space (the set of possible values taken by the random variable) can be interpreted as providing a relative likelihood that the value of the random variable would be equal to that sample.[2][3] Probability density is the probability per unit length, in other words, while the absolute likelihood for a continuous random variable to take on any particular value is 0 (since there is an infinite set of possible values to begin with), the value of the PDF at two different samples can be used to infer, in any particular draw of the random variable, how much more likely it is that the random variable would be close to one sample compared to the other sample. \n"
     ]
    }
   ],
   "source": [
    "print(\"Q_1_ANS :- In probability theory, a probability density function (PDF), or density of an absolutely continuous random variable, is a function whose value at any given sample (or point) in the sample space (the set of possible values taken by the random variable) can be interpreted as providing a relative likelihood that the value of the random variable would be equal to that sample.[2][3] Probability density is the probability per unit length, in other words, while the absolute likelihood for a continuous random variable to take on any particular value is 0 (since there is an infinite set of possible values to begin with), the value of the PDF at two different samples can be used to infer, in any particular draw of the random variable, how much more likely it is that the random variable would be close to one sample compared to the other sample. \")"
   ]
  },
  {
   "cell_type": "code",
   "execution_count": 3,
   "id": "6f958af4-f94f-492e-a423-dc8b2d2c6a4c",
   "metadata": {},
   "outputs": [
    {
     "name": "stdout",
     "output_type": "stream",
     "text": [
      "Q_2_ANS :- Type of Probability Distribution :-\n",
      "\n",
      "1. Normal / Gussion Distribution\n",
      "2. Bournalli Distribution\n",
      "3. Binomial Distribution\n",
      "4. Poisson Dustribution\n",
      "5. Uniform Dustribution \n",
      "6. Log Normal Dustribution\n"
     ]
    }
   ],
   "source": [
    "print(\"Q_2_ANS :- Type of Probability Distribution :-\\n\\n1. Normal / Gussion Distribution\\n2. Bournalli Distribution\\n3. Binomial Distribution\\n4. Poisson Dustribution\\n5. Uniform Dustribution \\n6. Log Normal Dustribution\")"
   ]
  },
  {
   "cell_type": "code",
   "execution_count": 4,
   "id": "3f0866de-0de7-4743-a510-22f9cb24c5a8",
   "metadata": {},
   "outputs": [
    {
     "name": "stdout",
     "output_type": "stream",
     "text": [
      "Q_3_ANS :- \n"
     ]
    }
   ],
   "source": [
    "print(\"Q_3_ANS :- \")"
   ]
  },
  {
   "cell_type": "code",
   "execution_count": 5,
   "id": "d8fc0b6a-c110-4403-a706-b93d183c094c",
   "metadata": {},
   "outputs": [],
   "source": [
    "import math\n",
    "\n",
    "def normal_pdf(x, mu, sigma):\n",
    "    \"\"\"\n",
    "    Calculate the probability density function of a normal distribution with\n",
    "    mean mu and standard deviation sigma at a given point x.\n",
    "    \"\"\"\n",
    "    coefficient = 1 / (sigma * math.sqrt(2 * math.pi))\n",
    "    exponent = -(x - mu)**2 / (2 * sigma**2)\n",
    "    pdf = coefficient * math.exp(exponent)\n",
    "    return pdf\n"
   ]
  },
  {
   "cell_type": "code",
   "execution_count": 8,
   "id": "8a37a2d2-b713-4c94-a979-d4a5edc84128",
   "metadata": {},
   "outputs": [
    {
     "data": {
      "text/plain": [
       "0.3989422804014327"
      ]
     },
     "execution_count": 8,
     "metadata": {},
     "output_type": "execute_result"
    }
   ],
   "source": [
    " normal_pdf(0, 0, 1)"
   ]
  },
  {
   "cell_type": "code",
   "execution_count": 11,
   "id": "082e419c-2fbb-4750-ab65-18ce641e59b3",
   "metadata": {},
   "outputs": [
    {
     "name": "stdout",
     "output_type": "stream",
     "text": [
      "Q_4_ANS :- Properties :-\n",
      "\n",
      "1. Every experiment outcome is binary.\n",
      "2. These experiment is performed for n trials.\n",
      "3. Binomial is a group of Bournalli distribution\n",
      "\n",
      "Two event where binomial distribution can applied\n",
      "\n",
      "1. Tossing a coin 10 times.\n",
      "2. Rolling a dicc 10 times.\n"
     ]
    }
   ],
   "source": [
    "print(\"Q_4_ANS :- Properties :-\\n\\n1. Every experiment outcome is binary.\\n2. These experiment is performed for n trials.\\n3. Binomial is a group of Bournalli distribution\\n\\nTwo event where binomial distribution can applied\\n\\n1. Tossing a coin 10 times.\\n2. Rolling a dicc 10 times.\")"
   ]
  },
  {
   "cell_type": "code",
   "execution_count": 12,
   "id": "ce7d51ce-8a35-41f4-a038-82f8e12dbc96",
   "metadata": {},
   "outputs": [
    {
     "name": "stdout",
     "output_type": "stream",
     "text": [
      "Q_5_ANS :- \n"
     ]
    }
   ],
   "source": [
    "print(\"Q_5_ANS :- \")"
   ]
  },
  {
   "cell_type": "code",
   "execution_count": 13,
   "id": "b75d9d9a-ef17-4b96-9b6d-f9410c2d86e9",
   "metadata": {},
   "outputs": [
    {
     "data": {
      "image/png": "[encoded data removed]",
      "text/plain": [
       "<Figure size 640x480 with 1 Axes>"
      ]
     },
     "metadata": {},
     "output_type": "display_data"
    }
   ],
   "source": [
    "import numpy as np\n",
    "import matplotlib.pyplot as plt\n",
    "\n",
    "# Set the probability of success and sample size\n",
    "p = 0.4\n",
    "n = 1000\n",
    "\n",
    "# Generate a random sample of size n from a binomial distribution with probability p\n",
    "sample = np.random.binomial(n, p, size=n)\n",
    "\n",
    "# Plot a histogram of the sample\n",
    "plt.hist(sample, bins=20, density=True, alpha=0.7)\n",
    "\n",
    "# Add a vertical line at the expected value of the distribution\n",
    "plt.axvline(x=n*p, color='red')\n",
    "\n",
    "# Add a title and labels to the plot\n",
    "plt.title('Binomial Distribution (n=1000, p=0.4)')\n",
    "plt.xlabel('Number of successes')\n",
    "plt.ylabel('Probability density')\n",
    "\n",
    "# Show the plot\n",
    "plt.show()\n"
   ]
  },
  {
   "cell_type": "code",
   "execution_count": 14,
   "id": "dbb7ca56-f93b-433a-8d88-e8d71f47c205",
   "metadata": {},
   "outputs": [
    {
     "name": "stdout",
     "output_type": "stream",
     "text": [
      "Q_6_ANS :- \n"
     ]
    }
   ],
   "source": [
    "print(\"Q_6_ANS :- \")"
   ]
  },
  {
   "cell_type": "code",
   "execution_count": 15,
   "id": "78c1b1ee-d689-4b9f-90a1-d9069d104839",
   "metadata": {},
   "outputs": [],
   "source": [
    "import math\n",
    "\n",
    "def poisson_cdf(k, mu):\n",
    "    \"\"\"\n",
    "    Calculate the cumulative distribution function (CDF) of a Poisson distribution\n",
    "    with mean mu at a given point k.\n",
    "    \"\"\"\n",
    "    cdf = 0\n",
    "    for i in range(k+1):\n",
    "        cdf += (mu**i * math.exp(-mu)) / math.factorial(i)\n",
    "    return cdf\n"
   ]
  },
  {
   "cell_type": "code",
   "execution_count": 16,
   "id": "1718ffc8-022e-405a-ad36-9173c0b08055",
   "metadata": {},
   "outputs": [
    {
     "data": {
      "text/plain": [
       "0.8571234604985472"
      ]
     },
     "execution_count": 16,
     "metadata": {},
     "output_type": "execute_result"
    }
   ],
   "source": [
    " poisson_cdf(3, 2)"
   ]
  },
  {
   "cell_type": "code",
   "execution_count": 27,
   "id": "df15d32b-7026-4878-9050-700e4caa60f8",
   "metadata": {},
   "outputs": [
    {
     "name": "stdout",
     "output_type": "stream",
     "text": [
      "Q_7_ANS :- Binomial Distribution :- \n",
      "\n",
      "1. Meaning :- Binomial distribution is one in which the probability of repeated number of trials are studied.\n",
      "2. Nature :- Biparametric\n",
      "3. Number of trial :- Fixed \n",
      "4. Success :- Constant probability\n",
      "5. Outcomes :- Only two possible outcomes, i.e. success or failure.\n",
      "6. Mean and Variance :- Mean > Variance\n",
      "7. Example :- \tCoin tossing experiment.\n",
      "\n",
      "Poisson Dustibution :- \n",
      "\n",
      "1. Meaning :-Poisson Distribution gives the count of independent events occur randomly with a given period of time.\n",
      "2. Nature :- Uniparametric\n",
      "3. Number of trial :- Infinite \n",
      "4. Success :- Infinitesimal chance of successy\n",
      "5. Outcomes :- Unlimited number of possible outcomes.\n",
      "6. Mean and Variance :- Mean = Variance\n",
      "7. Example :- Printing mistakes/page of a large book.\n"
     ]
    }
   ],
   "source": [
    "print(\"Q_7_ANS :- Binomial Distribution :- \\n\\n1. Meaning :- Binomial distribution is one in which the probability of repeated number of trials are studied.\\n2. Nature :- Biparametric\\n3. Number of trial :- Fixed \\n4. Success :- Constant probability\\n5. Outcomes :- Only two possible outcomes, i.e. success or failure.\\n6. Mean and Variance :- Mean > Variance\\n7. Example :- \tCoin tossing experiment.\\n\\nPoisson Dustibution :- \\n\\n1. Meaning :-Poisson Distribution gives the count of independent events occur randomly with a given period of time.\\n2. Nature :- Uniparametric\\n3. Number of trial :- Infinite \\n4. Success :- Infinitesimal chance of successy\\n5. Outcomes :- Unlimited number of possible outcomes.\\n6. Mean and Variance :- Mean = Variance\\n7. Example :- Printing mistakes/page of a large book.\")"
   ]
  },
  {
   "cell_type": "code",
   "execution_count": 28,
   "id": "82040480-096d-43b3-ba08-01c9607ab2db",
   "metadata": {},
   "outputs": [
    {
     "name": "stdout",
     "output_type": "stream",
     "text": [
      "Q_8_ANS :- \n"
     ]
    }
   ],
   "source": [
    "print(\"Q_8_ANS :- \")"
   ]
  },
  {
   "cell_type": "code",
   "execution_count": 32,
   "id": "0b592494-fb7e-4285-a0ba-75368ca9c59c",
   "metadata": {},
   "outputs": [
    {
     "name": "stdout",
     "output_type": "stream",
     "text": [
      "Sample Mean: 5.078\n",
      "Sample Variance: 5.022\n"
     ]
    }
   ],
   "source": [
    "import numpy as np \n",
    "\n",
    "# Set the mean and sample size\n",
    "mu = 5\n",
    "n = 1000\n",
    "\n",
    "# Generate a random sample of size n from a Poisson distribution with mean mu\n",
    "sample = np.random.poisson(mu , size=n)\n",
    "\n",
    "# Calculate the sample mean and variance\n",
    "sample_mean = np.mean(sample)\n",
    "sample_var =  np.var(sample)\n",
    "\n",
    "\n",
    "print(f\"Sample Mean: {sample_mean:.3f}\")\n",
    "print(f\"Sample Variance: {sample_var:.3f}\")"
   ]
  },
  {
   "cell_type": "code",
   "execution_count": 33,
   "id": "59089a31-dfed-42d6-9bee-d37966877b63",
   "metadata": {},
   "outputs": [
    {
     "name": "stdout",
     "output_type": "stream",
     "text": [
      "Q_9_ANS :- In the Binomial distribution, the mean and variance are related by the formula:\n",
      "\n",
      "mean = n * p\n",
      "variance = n * p * (1 - p)\n",
      "\n",
      "where n is the number of trials, and p is the probability of success on each trial. This means that as the probability of success p gets closer to 0 or 1, the variance gets smaller, and as p gets closer to 0.5, the variance gets larger.\n",
      "\n",
      "\n",
      "In the Poisson distribution, the mean and variance are equal, that is:\n",
      "\n",
      "mean = variance = lambda\n",
      "\n",
      "where lambda is the parameter that represents the mean and variance of the distribution. This means that the variance is completely determined by the mean, and does not depend on any other parameters.\n",
      "So, in summary, in Binomial distribution, the variance depends on both the number of trials and the probability of success, while in Poisson distribution, the variance is solely determined by the mean. \n"
     ]
    }
   ],
   "source": [
    "print(\"Q_9_ANS :- In the Binomial distribution, the mean and variance are related by the formula:\\n\\nmean = n * p\\nvariance = n * p * (1 - p)\\n\\nwhere n is the number of trials, and p is the probability of success on each trial. This means that as the probability of success p gets closer to 0 or 1, the variance gets smaller, and as p gets closer to 0.5, the variance gets larger.\\n\\n\\nIn the Poisson distribution, the mean and variance are equal, that is:\\n\\nmean = variance = lambda\\n\\nwhere lambda is the parameter that represents the mean and variance of the distribution. This means that the variance is completely determined by the mean, and does not depend on any other parameters.\\nSo, in summary, in Binomial distribution, the variance depends on both the number of trials and the probability of success, while in Poisson distribution, the variance is solely determined by the mean. \")"
   ]
  },
  {
   "cell_type": "code",
   "execution_count": 35,
   "id": "d59e4ab2-1659-40e5-b366-7f993b67a1e4",
   "metadata": {},
   "outputs": [
    {
     "name": "stdout",
     "output_type": "stream",
     "text": [
      "Q_10_ANS :- In a normal distribution, the data is symmetric around the mean. This means that the least frequent data appears at the two tails of the distribution, which are furthest away from the mean.\n",
      "\n",
      "For example, if we have a normal distribution with a mean of 0 and a standard deviation of 1, the least frequent data will appear at the two tails of the distribution, which are at values less than -2 or greater than 2.\n",
      "\n",
      "Here's a visualization of a normal distribution with mean 0 and standard deviation 1, where the least frequent data is shaded in red:\n",
      "\n",
      "As you can see, the data is symmetric around the mean of 0, and the least frequent data appears at the two tails of the distribution.\n"
     ]
    }
   ],
   "source": [
    "print(\"Q_10_ANS :- In a normal distribution, the data is symmetric around the mean. This means that the least frequent data appears at the two tails of the distribution, which are furthest away from the mean.\\n\\nFor example, if we have a normal distribution with a mean of 0 and a standard deviation of 1, the least frequent data will appear at the two tails of the distribution, which are at values less than -2 or greater than 2.\\n\\nHere's a visualization of a normal distribution with mean 0 and standard deviation 1, where the least frequent data is shaded in red:\\n\\nAs you can see, the data is symmetric around the mean of 0, and the least frequent data appears at the two tails of the distribution.\")"
   ]
  },
  {
   "cell_type": "code",
   "execution_count": null,
   "id": "5b0dbd35-2455-493a-810c-815472156c9f",
   "metadata": {},
   "outputs": [],
   "source": []
  }
 ],
 "metadata": {
  "kernelspec": {
   "display_name": "Python 3 (ipykernel)",
   "language": "python",
   "name": "python3"
  },
  "language_info": {
   "codemirror_mode": {
    "name": "ipython",
    "version": 3
   },
   "file_extension": ".py",
   "mimetype": "text/x-python",
   "name": "python",
   "nbconvert_exporter": "python",
   "pygments_lexer": "ipython3",
   "version": "3.10.6"
  }
 },
 "nbformat": 4,
 "nbformat_minor": 5
}
